{
 "cells": [
  {
   "cell_type": "markdown",
   "metadata": {},
   "source": [
    "# Statuts de la société coopérative d'habitation Re-Co\n",
    "### Version du 15.01.22"
   ]
  },
  {
   "cell_type": "markdown",
   "metadata": {},
   "source": [
    "-----"
   ]
  },
  {
   "cell_type": "markdown",
   "metadata": {},
   "source": [
    "### Table des matières\n",
    "\n",
    "1.\t[Raison sociale et siège](#1)\n",
    "- Art. 1\t[Raison sociale](#Art1)\n",
    "- Art. 2\t[Siège](#Art2)\n",
    "    \n",
    "2.\t[But, moyens et principes](#2)\n",
    "- Art. 3\t[Méthodes](#Art3)\n",
    "- Art. 4\t[But et moyens](#Art4)\n",
    "- Art. 5\t[Principes applicables à la location](#Art5)\n",
    "- Art. 6\t[Principes applicables à la construction et à l’entretien des bâtiments](#Art6)\n",
    "- Art. 7\t[Inaliénabilité des terrains, immeubles et logements](#Art7)\n",
    "\n",
    "3.\t[Qualité de membre: acquisition, perte et obligations](#3)\n",
    "- Art. 8\t[Acquisition de la qualité de membre](#Art8)\n",
    "- Art. 9\t[Extinction de la qualité de membre](#Art9)\n",
    "- Art. 10\t[Sortie](#Art10)\n",
    "- Art. 11\t[Décès](#Art11)\n",
    "- Art. 12\t[Exclusion](#Art12)\n",
    "- Art. 13\t[Dissolution de la vie commune de couples mariés et de partenaires enregistrés](#Art13)\n",
    "- Art. 14\t[Mise en gage et cession de parts sociales de la coopérative](#Art14)\n",
    "- Art. 15\t[Obligations personnelles des membres](#Art15)\n",
    "\n",
    "4.\t[Dispositions financières](#4)\n",
    "\n",
    "[Capital social](#A)\n",
    "- Art. 16\t[Parts sociales](#Art16)\n",
    "- Art. 17\t[Financement des parts sociales de coopérative](#Art17)\n",
    "- Art. 18\t[Intérêt servi sur les parts sociales](#Art18)\n",
    "- Art. 19\t[Remboursement des parts sociales](#Art19)\n",
    "\n",
    "[Responsabilité](#B)\n",
    "- Art. 20\t[Responsabilité](#Art20)\n",
    "\n",
    "[Comptabilité](#C)\n",
    "- Art. 21\t[Comptes annuels et exercice annuel](#Art21)\n",
    "- Art. 22\t[Réserves issues du bénéfice](#Art22)\n",
    "- Art. 23\t[Réserves et ajustements de valeurs](#Art23)\n",
    "- Art. 24\t[Indemnité des organes](#Art24)\n",
    "\n",
    "5.\t[Organisation](#5)\n",
    "\n",
    "[Organes](#D)\n",
    "- Art. 25\t[Vue d‘ensemble](#Art25)\n",
    "\n",
    "[Assemblée générale](#E)\n",
    "- Art. 26\t[Compétences](#Art26)\n",
    "- Art. 27\t[Convocation et direction de l‘assemblée](#Art27)\n",
    "- Art. 28\t[Droit de vote](#Art28)\n",
    "- Art. 29\t[Décisions et élections](#Art29)\n",
    "\n",
    "[Comité](#F)\n",
    "- Art. 30\t[Election et éligibilité](#Art30)\n",
    "- Art. 31\t[Tâches](#Art31)\n",
    "- Art. 32\t[Délégation de compétence](#Art32)\n",
    "- Art. 33\t[Séances du comité](#Art33)\n",
    "\n",
    "[Organe de révision](#G)\n",
    "- Art. 34\t[Election et constitution](#Art34)\n",
    "- Art. 35\t[Tâches](#Art35)\n",
    "\n",
    "6.\t[Dispositions finales](#6)\n",
    "\n",
    "[Dissolution par liquidation et fusion](#H)\n",
    "- Art. 36\t[Liquidation](#Art36)\n",
    "- Art. 37\t[Excédent de liquidation](#Art37)\n",
    "- Art. 38\t[Fusion](#Art38)\n",
    "\n",
    "[Communications](#I)\n",
    "- Art. 39\t[Communications et organe de publication](#Art39)\n",
    "\n",
    "[Approbation](#J)\n",
    "- Art. 40\t[Approbation par l'Office Fédéral du Logement (OFL)](#Art40)"
   ]
  },
  {
   "cell_type": "markdown",
   "metadata": {},
   "source": [
    "-----"
   ]
  },
  {
   "cell_type": "markdown",
   "metadata": {},
   "source": [
    "### 1. Raison sociale et siège <a name=\"1\"></a>"
   ]
  },
  {
   "cell_type": "markdown",
   "metadata": {},
   "source": [
    "#### Art. 1 Raison sociale <a name=\"Art1\"></a>\n",
    "\n",
    "> Sous la raison sociale **Re-Co société coopérative d’habitation** (ci-après : *Re-Co*) existe une coopérative d'habitation d'utilité publique fondée pour une durée indéterminée au sens de l'art. 828 ss CO."
   ]
  },
  {
   "cell_type": "markdown",
   "metadata": {},
   "source": [
    "#### Art. 2 Siège<a name=\"Art2\"></a>\n",
    "\n",
    "> Le siège de la coopérative est sis à l'Avenue de Morges 63, CH-1004 Lausanne."
   ]
  },
  {
   "cell_type": "markdown",
   "metadata": {},
   "source": [
    "### 2. But, moyens et principes"
   ]
  },
  {
   "cell_type": "markdown",
   "metadata": {},
   "source": [
    "#### Art. 3 Méthodes <a name=\"Art3\"></a>\n",
    "> <sup>1</sup> Re-Co reprend ici dans leur intégralité les statuts-types de l'Association romande des Maîtres d'Ouvrage d'Utilité Publique, à laquelle elle s'engage à adhérer et à contribuer.\n",
    ">\n",
    "> <sup>2</sup> Dès sa création, Re-Co s'engage à ratifier la Charte vaudoise pour la promotion des logements coopératifs innovants et participatifs"
   ]
  },
  {
   "cell_type": "markdown",
   "metadata": {},
   "source": [
    "#### Art. 4 But et moyens <a name=\"Art4\"></a>\n",
    "\n",
    "> <sup>1</sup> La coopérative poursuit le but de créer et maintenir pour ses membres, en une action et responsabilité communes, de bons logements à des prix abordables. Elle s'efforce de proposer des espaces habitables pour toutes les couches de la population, en particulier pour les personnes seules, les familles, les personnes âgées et celles ayant des besoins particuliers. Elle encourage le vivre ensemble dans un esprit de responsabilité face à l'intérêt général, et de solidarité réciproque. La coopérative peut proposer dans ses bâtiments des locaux voués à des prestations commerciales.\n",
    ">\n",
    "> <sup>2</sup> Elle cherche à atteindre ce but par:\n",
    ">\n",
    ">* l'acquisition de terrain à bâtir et de droits de superficie;\n",
    ">* la construction et l'acquisition de maisons individuelles et locatives correspondant aux besoins en logements modernes, de coopérative;\n",
    ">* un entretien attentif et continu ainsi qu'une rénovation périodique des bâtiments existants;\n",
    ">* la construction de bâtiments de remplacement, lorsque les immeubles existants ne peuvent plus être rénovés de manière économique et défendable;\n",
    ">* le recours à des instruments d'encouragement conformes à la loi fédérale sur le logement ou aux lois cantonales et communales correspondantes;\n",
    ">* l'administration et la location des logements sur la base de loyers à prix coûtant;\n",
    ">* la construction de logements et de maisons individuelles pour la vente en propriété par étages ou en droit de superficie;\n",
    ">* l'encouragement d'activités en esprit de coopérative dans les lotissements;\n",
    ">* le soutien au plan conceptuel et matériel de démarches visant un logement de valeur et de bonne qualité.\n",
    ">\n",
    "><sup>3</sup> L'activité de la coopérative est d'utilité publique et ne vise pas de bénéfices.\n",
    ">\n",
    "><sup>4</sup> La coopérative peut participer à des entreprises et organisations ayant les mêmes objectifs ou des buts analogues. Elle peut être membre de coopératives d'habitation Suisse, la fédération des maîtres d'ouvrage d'utilité publique.     "
   ]
  },
  {
   "cell_type": "markdown",
   "metadata": {},
   "source": [
    "#### Art. 5 Principes applicables à la location <a name=\"Art5\"></a>\n",
    "\n",
    "><sup>1</sup> La location est, dans les limites des dispositions suivantes, la tâche du comité qui édicte à ce sujet un règlement de location. Le comité veille également à ce que les locataires soient informés à propos d'éventuelles conditions découlant d'une aide au logement fournie par l'Etat et à ce qu'ils s'engagent à respecter ces conditions.\n",
    ">\n",
    "><sup>2</sup> La location de logements ou de maisons individuelles de la coopérative suppose en principe l'adhésion à la coopérative.\n",
    ">\n",
    "><sup>3</sup> Les loyers de logements subventionnés par l'Etat se fondent sur les prescriptions y afférentes. Au demeurant, la coopérative loue en principe ses logements à prix coûtant. Elle renonce à réaliser un véritable bénéfice et à opérer des paiements surfaits à des tiers. Les loyers doivent notamment couvrir les capitaux de tiers et le capital propre, d'éventuelles redevances de droit de superficie, les amortissements usuels dans la branche, les provisions et investissements dans les fonds prescrits par la loi ou par les autorités de subventionnement, ainsi que dans les fonds décidés par l'assemblée générale, l'entretien courant des bâtiments et aménagements extérieurs, le paiement de taxes, impôts et primes d'assurances, tout comme les coûts d'une administration et d'une direction de la coopérative répondant aux critères de la modernité.\n",
    ">\n",
    "><sup>4</sup> Les membres sont tenus d'habiter eux-mêmes dans les logements qui leur sont loués et d'y avoir leur domicile de droit civil.\n",
    ">\n",
    "><sup>5</sup> La sous-location totale ou partielle d'un logement ou de pièces individuelles n'est autorisée qu'avec l'accord préalable du comité. Celui-ci peut refuser d'approuver une demande de sous-location pour les motifs mentionnés sous article 262, al. 2 CO. Sont réputés inconvénients majeurs en cas de sous-location du logement entier, en particulier celle durant plus d'un an, la sous-location intervenant plus de deux fois au cours du rapport de bail, la sous-location à des personnes ne remplissant pas les directives régissant la location selon règlement y afférent, ainsi que l'impossibilité pour les membres de préciser clairement qu'ils habiteront à nouveau eux-mêmes le logement à l'échéance de la sous-location. En cas de sous-location de pièces individuelles, la coopérative subit également un inconvénient majeur lorsque, de ce fait, les directives régissant la location selon règlement y relatif peuvent être contournées. Le comité peut autoriser la sous-location journalière ou hebdomadaire à des tiers. Il règle les détails dans le règlement de location.\n",
    ">\n",
    "><sup>6</sup> Un équilibre raisonnable doit être ménagé entre la grandeur de l'appartement et le nombre des utilisateurs. Il est possible de louer des logements de trois pièces à une personne, et les quatre pièces à deux personnes. Dans des nouveaux baux de logements de plus de quatre pièces, le nombre de pièces peut dépasser d'une unité le nombre des personnes qui y habitent. Sous le régime d'un contrat de bail existant, le nombre de pièces peut dépasser de deux le nombre des personnes qui y habitent. Un logement est réputé sous-occupé si le nombre de pièces dépasse de plus de deux le nombre de personnes qui y habitent. Les membres sont tenus, pour la durée de la sous-occupation, de payer au Fonds de la coopérative les redevances mensuelles fixées à ce titre dans le règlement de location (au maximum le montant d'un loyer mensuel divisé par le [nombre de pièces plus 1]) et de passer à un logement plus petit. Le comité règle les détails dans le règlement de location."
   ]
  },
  {
   "cell_type": "markdown",
   "metadata": {},
   "source": [
    "#### Art. 6 Principes applicables à la construction et à l’entretien des bâtiments <a name=\"Art6\"></a>\n",
    "\n",
    "><sup>1</sup> Pour ce qui touche à la construction et à la transformation de ses bâtiments, quelques points sont extrêmement importants pour la coopérative: grande souplesse dans l'utilisation des logements ou des locaux commerciaux moyennant prise en compte de besoins futurs, construction adaptée aux personnes en situation de handicap, espaces extérieurs de haute qualité, desserte sûre et favorisant la communication, faible entretien subséquent, ainsi qu'une utilisation de matériaux impeccables au plan écologique, et économies d'énergie dans la construction et l'exploitation.\n",
    ">\n",
    "><sup>2</sup> Grâce à un entretien en continu, durable, soucieux des coûts et de la qualité, la coopérative adapte ses bâtiments à l'état des moyens techniques et aux besoins de logements en coopérative modernes, et veille par conséquent au maintien de la valeur des bâtiments. Cette orientation comprend également l'examen régulier de mesures visant la plus-value des immeubles et de leur environnement au plan de l'habitat.\n",
    ">\n",
    "><sup>3</sup> A l'occasion de rénovations globales et de la construction de bâtiments de remplacement, la coopérative a à cœur d'agir en toute responsabilité sociale. Elle annonce de telles actions au moins deux ans à l'avance et propose au moins un objet de relogement aux intéressés, selon possibilités. En cas de relocation des bâtiments transformés et de bâtisses érigées en remplacement, ce sont en premier lieu les locataires actuels qui doivent être pris en considération, dans la mesure où ils remplissent les critères de location."
   ]
  },
  {
   "cell_type": "markdown",
   "metadata": {},
   "source": [
    "#### Art. 7 Inaliénabilité des terrains, immeubles et logements <a name=\"Art7\"></a>\n",
    "\n",
    "><sup>1</sup> Les terrains, immeubles et logements des coopératives sont en principe inaliénables.\n",
    ">\n",
    "><sup>2</sup> Pour des raisons majeures, l'assemblée générale décide à la majorité des deux tiers au sujet d'une vente et de ses modalités, ainsi que sur l'octroi de droits de superficie distincts et permanents.\n",
    ">\n",
    "><sup>3</sup> S'agissant de logements bénéficiant d'aides étatiques, le comité veille à ce que les acquéreurs soient informés d'éventuelles contraintes liées à la promotion du logement et à ce qu'ils s'engagent à les respecter.\n"
   ]
  },
  {
   "cell_type": "markdown",
   "metadata": {},
   "source": [
    "### 3. Qualité de membre: acquisition, perte et obligations"
   ]
  },
  {
   "cell_type": "markdown",
   "metadata": {},
   "source": [
    "#### Art. 8 Acquisition de la qualité de membre <a name=\"Art8\"></a>\n",
    "\n",
    "><sup>1</sup> Toute personne physique adulte ou toute personne morale peut devenir membre de la coopérative, pour autant qu'elle souscrive au moins une part sociale de la coopérative (part sociale de membre).\n",
    ">\n",
    "><sup>2</sup> Le nombre des membres est illimité.\n",
    ">\n",
    "><sup>3</sup> L'admission intervient sous la forme d'une décision du comité, sur la base d'une demande d'adhésion écrite et après paiement intégral des parts sociales de la coopérative exigées. Le comité statue définitivement sur l'admission. La décision du comité est déterminante pour le début de la qualité de membre.\n",
    ">\n",
    "><sup>4</sup> Le comité tient un registre des membres."
   ]
  },
  {
   "cell_type": "markdown",
   "metadata": {},
   "source": [
    "#### Art. 9 Extinction de la qualité de membre <a name=\"Art9\"></a>\n",
    "\n",
    "><sup>1</sup> La qualité de membre s'éteint:\n",
    ">* a) pour les personnes physiques, par la sortie, l'exclusion ou le décès;\n",
    ">* b) pour les personnes morales, par la sortie, l'exclusion ou la dissolution.\n",
    ">\n",
    "><sup>2</sup> Le remboursement des parts sociales en cas d'extinction de la qualité de membre est réglé selon l'art. 18 des statuts."
   ]
  },
  {
   "cell_type": "markdown",
   "metadata": {},
   "source": [
    "#### Art. 10 Sortie <a name=\"Art10\"></a>\n",
    "\n",
    "><sup>1</sup> Si le membre est locataire de locaux de la coopérative, la sortie suppose la résiliation du contrat de bail.\n",
    ">\n",
    "><sup>2</sup> La sortie de la coopérative n'est possible que par notification écrite, avec effet à la fin de l'exercice annuel et sous respect d'un délai de résiliation de six mois. Le comité peut dans des cas justifiés autoriser aussi la sortie dans un délai de résiliation plus court ou à une autre date, ainsi notamment en cas de résiliation du contrat de bail pour la fin du délai de résiliation selon le droit du bail.\n",
    ">\n",
    "><sup>3</sup> Dès que la décision de dissolution de la coopérative est rendue, il n'est plus possible de notifier la sortie."
   ]
  },
  {
   "cell_type": "markdown",
   "metadata": {},
   "source": [
    "#### Art. 11 Décès <a name=\"Art11\"></a>\n",
    "\n",
    "><sup>1</sup> Si un membre qui a été locataire d'un logement de la coopérative décède, le conjoint, le partenaire enregistré ou le partenaire (concubin) vivant dans le même ménage peut, dans la mesure où il n'est pas déjà membre de la coopérative, reprendre la qualité de membre du défunt et, le cas échéant, son contrat de bail. Le partenaire doit prouver qu'il est l'héritier du défunt.\n",
    ">\n",
    "><sup>2</sup> D'autres personnes vivant dans le même ménage peuvent avec l'assentiment du comité devenir membres de la coopérative et conclure un contrat de bail."
   ]
  },
  {
   "cell_type": "markdown",
   "metadata": {},
   "source": [
    "#### Art. 12 Exclusion <a name=\"Art12\"></a>\n",
    "\n",
    "><sup>1</sup> Un membre peut être en tout temps exclu de la coopérative par le comité lorsqu'un juste motif ou l'un des motifs suivants existe:\n",
    ">* <sup>a</sup> violation d'obligations générales incombant au membre, en particulier l'obligation de bonne foi envers la coopérative, inobservation de décisions de l'assemblée générale ou du comité ainsi qu'une atteinte portée intentionnellement à l'image ou aux intérêts économiques de la coopérative;\n",
    ">* <sup>b</sup> inobservation de l'obligation faite aux membres d'habiter eux-mêmes dans les logements qui leur sont loués et d'y avoir leur domicile de droit civil [ou le séjour hebdomadaire annoncé officiellement];\n",
    ">* <sup>c</sup> affectation du logement contraire à son but, notamment lorsqu'il sera principalement utilisé – tout comme ses locaux accessoires – à des buts commerciaux;\n",
    ">* <sup>d</sup> en cas de divorce ou de séparation, pour autant que l'exclusion soit prévue sous art. 12, ou que seule peut-être membre une personne habitant dans un logement de la coopérative;\n",
    ">* <sup>e</sup> non-respect des dispositions des statuts et du règlement de location au sujet des sous-locations;\n",
    ">* <sup>f</sup> refus d'une offre de relogement en cas de sous-occupation du logement;\n",
    ">* <sup>g</sup> décision de l'organe compétent au sujet d'une rénovation globale ou de la démolition de l'immeuble en question; toutefois, si la coopérative dispose d'objets correspondants, seulement après refus d'une offre de relogement;\n",
    ">* <sup>h</sup> existence d'un motif extraordinaire de résiliation selon le droit du bail, en particulier en vertu des art. 257d CO, 257f CO, 266g CO, 266h CO ainsi que d'autres infractions au contrat de bail;\n",
    ">* <sup>i</sup> infraction aux dispositions régissant l'aide au logement, sur la base desquelles la coopérative a l'obligation de résilier le contrat de bail, pour autant que nulle offre de relogement ne puisse être faite ou qu'une telle offre ait été refusée.\n",
    ">\n",
    "><sup>2</sup> L'exclusion doit être précédée d'un avertissement adéquat, sauf si celui-ci est inutile ou si la résiliation du bail intervient selon art. 257f, al. 4 CO, ou conformément à l'art. 12 des statuts.\n",
    ">\n",
    "><sup>3</sup> La décision concernant l'exclusion doit être notifiée au membre concerné par lettre recommandée indiquant les motifs et moyennant référence à la possibilité de faire recours auprès de l'assemblée générale. Le membre exclu a le droit de faire recours auprès de l'assemblée générale dans le délai de 30 jours à dater de la réception de la notification de l'exclusion. Le recours n'a pas d'effet suspensif, mais le membre exclu a le droit d'exposer lui-même ou de faire exposer son point de vue à l'assemblée générale.\n",
    ">\n",
    "><sup>4</sup> Le membre exclu à la faculté d'en appeler au juge dans le délai de trois mois, conformément à l'art. 846, al. 3 CO. L'appel au juge n'a pas non plus d'effet suspensif.\n",
    ">\n",
    "><sup>5</sup> La résiliation du contrat de bail est fondée sur les dispositions du droit du bail; elle suppose l'existence d'un motif qui justifierait également l'exclusion de la coopérative."
   ]
  },
  {
   "cell_type": "markdown",
   "metadata": {},
   "source": [
    "#### Art. 13 Dissolution de la vie commune de couples mariés et de partenaires enregistrés <a name=\"Art13\"></a>\n",
    "\n",
    "><sup>1</sup> Si le juge attribue dans une décision de mesure de protection de l'union conjugale ou dans un jugement de divorce l'utilisation du logement au conjoint du membre, le comité peut avec l'accord de celui-ci transférer le contrat de bail sur l'autre conjoint. Un tel transfert suppose la qualité de membre ou son acquisition par la personne restant dans le logement, ainsi que la reprise de toutes les parts sociales (art. 15, al. 2). Le comité peut exclure de la coopérative, sans préavis, le membre auquel le logement n'a pas été attribué, pour autant qu'il ne puisse pas ou ne veuille pas lui mettre à disposition un autre logement. La même règle s'applique en cas de décision concernant la dissolution de la vie commune du partenariat enregistré.\n",
    ">\n",
    "><sup>2</sup> Si le juge attribue en cas de divorce ou de jugement de liquidation du régime matrimonial le logement et le contrat de bail au conjoint ou au partenaire enregistré du membre, le comité a la faculté, s'il ne peut ou veut mettre un autre logement à disposition du membre, exclure celui-ci de la coopérative, sans préavis. Le conjoint ou le partenaire enregistré à qui le contrat de bail a été transféré doit être ou devenir membre de la coopérative et reprendre toutes les parts sociales du logement. La même règle est applicable en cas de jugement relatif à la dissolution du partenariat enregistré.\n",
    ">\n",
    "><sup>3</sup> Les règles concernant l'occupation du logement énoncées sous art. 4, al. 6 demeurent réservées.\n",
    ">\n",
    "><sup>4</sup> Les conséquences patrimoniales concernant les parts sociales de la coopérative sont régies conformément à la décision y relative du tribunal, ou de la convention passée à ce propos, un remboursement du capital social n'intervenant qu'après que le conjoint ou le partenaire enregistré restant dans le logement ait versé un montant correspondant à la coopérative."
   ]
  },
  {
   "cell_type": "markdown",
   "metadata": {},
   "source": [
    "#### Art. 14 Mise en gage et cession de parts sociales de la coopérative <a name=\"Art14\"></a>\n",
    "\n",
    "><sup>1</sup> Toute mise en gage et autre charge grevant des parts sociales de la coopérative, ainsi que leur cession à des personnes qui n'en sont pas membres, sont exclues.\n",
    ">\n",
    "><sup>2</sup> La cession de parts sociales de la coopérative n'est admise que de membre à membre et nécessite l'approbation du comité. Un contrat de cession sous forme écrite est requis à cet effet."
   ]
  },
  {
   "cell_type": "markdown",
   "metadata": {},
   "source": [
    "#### Art. 15 Obligations personnelles des membres <a name=\"Art15\"></a>\n",
    "\n",
    ">Les membres sont tenus:\n",
    ">* <sup>a</sup> de défendre les intérêts de la coopérative en toute bonne foi; Obligation de loyauté\n",
    ">* <sup>b</sup> de se conformer aux statuts et décisions des organes de la coopérative; Obligation de respect des règles\n",
    ">* <sup>c</sup> selon possibilité, participer aux activités de la coopérative et collaborer au sein de ses organes."
   ]
  },
  {
   "cell_type": "markdown",
   "metadata": {},
   "source": [
    "### 4. Dispositions financières"
   ]
  },
  {
   "cell_type": "markdown",
   "metadata": {},
   "source": [
    "#### **Capital social** <a name=\"A\"></a>\n",
    "\n",
    "#### Art. 16 Parts sociales <a name=\"Art16\"></a>\n",
    "\n",
    "><sup>1</sup> Le capital social de la coopérative se compose de la somme des parts sociales souscrites. Les parts sociales ont une valeur nominale de 100 francs chacune et doivent être intégralement payées. Exceptionnellement, le comité peut autoriser un paiement par tranches des parts liées au logement. Le comité a la faculté d'émettre en tout temps de nouvelles parts sociales de la coopérative pour de nouveaux membres.\n",
    ">\n",
    "><sup>2</sup> Les membres qui louent des locaux de la coopérative doivent, en sus de la part sociale de membre (cf. art. 7, al. 1) souscrire des parts sociales supplémentaires (parts liées au logement). Le comité règle les détails dans un règlement, le montant à souscrire étant échelonné en fonction des frais d'investissement du logement loué et devant correspondre aux prescriptions régissant l'aide au logement, tout en suffisant au financement des constructions. Le montant maximum est de 20% des frais d'investissement des locaux loués.\n",
    ">\n",
    "><sup>3</sup> Si plusieurs membres louent en commun des locaux de la coopérative, les parts sociales à souscrire pour ces locaux peuvent être réparties entre ces membres en une proportion qu'ils choisissent eux-mêmes.\n",
    ">\n",
    "><sup>4</sup> Il n'est pas émis de titres des parts sociales souscrites. Le membre obtient cependant chaque année une attestation du montant de sa participation, accompagnée d'une éventuelle attestation des intérêts."
   ]
  },
  {
   "cell_type": "markdown",
   "metadata": {},
   "source": [
    "#### Art. 17 Financement des parts sociales de coopérative <a name=\"Art17\"></a>\n",
    "\n",
    "><sup>1</sup> Les parts sociales peuvent être payées au moyen de la prévoyance professionnelle. Le comité règle l'exécution dans un règlement.\n",
    ">\n",
    "><sup>2</sup> Avec l'accord du comité, les parts de coopérative peuvent également être financées par des tiers. A défaut de convention contraire, un éventuel intérêt à payer incombe au membre."
   ]
  },
  {
   "cell_type": "markdown",
   "metadata": {},
   "source": [
    "#### Art. 18 Intérêt servi sur les parts sociales <a name=\"Art18\"></a>\n",
    "\n",
    "><sup>1</sup> Un intérêt ne peut être versé sur les parts sociales qu'à condition qu'aient été opérés des investissements appropriés dans les fonds légaux et statutaires ainsi que des amortissements.\n",
    ">\n",
    "><sup>2</sup> L'assemblée générale fixe chaque année le taux d'intérêt, étant précisé qu'il ne peut dépasser l'intérêt usuel en vigueur dans le pays pour des prêts à longue échéance accordés sans garanties spéciales, ni le taux d'intérêt admissible pour l'exonération du droit de timbre fédéral à hauteur de 6%, ni d'éventuelles limites définies dans les dispositions régissant l'encouragement au logement.\n",
    ">\n",
    "><sup>2</sup> Les parts porteront toujours intérêt du premier jour du mois suivant le paiement jusqu'à l'extinction de la qualité de membre. Le montant non payé ne porte pas intérêt."
   ]
  },
  {
   "cell_type": "markdown",
   "metadata": {},
   "source": [
    "#### Art. 19 Remboursement des parts sociales <a name=\"Art19\"></a>\n",
    "\n",
    "><sup>1</sup> Les membres sortants ou leurs héritiers n'ont aucun droit au patrimoine de la coopérative, à l'exception du droit au remboursement des parts sociales qu'ils ont payées.\n",
    ">\n",
    "><sup>2</sup> Il n'existe aucun droit au remboursement de parts de membres et de parts liées au logement qui sont reprises par le partenaire en vertu des articles 10 et 12 des statuts. Le remboursement de parts sociales acquises au moyen de la prévoyance professionnelle doit intervenir, selon instruction du membre actuel, en sa faveur ou à l'attention d'une autre coopérative d'habitation dans laquelle il occupe lui-même et durablement un logement, ou d'une institution de prévoyance professionnelle - ou encore, à l'âge de la retraite, en faveur du membre actuel lui-même.\n",
    ">\n",
    "><sup>2</sup> Le remboursement a lieu à la valeur du bilan de l'année de sortie, sous exclusion des réserves et attributions à des fonds, mais au maximum à la valeur nominale.\n",
    ">\n",
    "><sup>3</sup> Le versement auquel s'ajoute un éventuel intérêt intervient dans le délai d'un mois à dater de l'approbation des comptes annuels et de la fixation du taux d'intérêt par la prochaine assemblée générale ordinaire. Si la situation financière de la coopérative l'exige, le comité est habilité à différer le remboursement pendant la durée de trois ans, l'intérêt servi étant le même que celui rémunérant des parts de coopératives non résiliées.\n",
    ">\n",
    "><sup>4</sup> En des cas spéciaux, le comité peut décider que les parts de la coopérative seront remboursées avant terme, mais jamais avant la reddition du logement, ainsi en particulier lorsque le montant est nécessaire pour libérer des parts sociales d'une autre coopérative d'habitation.\n",
    ">\n",
    "><sup>5</sup> La coopérative est autorisée à compenser les créances qu'elle possède envers le membre sortant avec le crédit que celui-ci détient au titre des parts sociales."
   ]
  },
  {
   "cell_type": "markdown",
   "metadata": {},
   "source": [
    "#### **Responsabilité** <a name=\"B\"></a>\n",
    "\n",
    "#### Art. 20 Responsabilité <a name=\"Art20\"></a>\n",
    "\n",
    ">Seul le patrimoine de la coopérative répond des engagements de celle-ci. Toute obligation de versements supplémentaires ou responsabilité individuelle d'un membre est exclue."
   ]
  },
  {
   "cell_type": "markdown",
   "metadata": {},
   "source": [
    "#### **Comptabilité** <a name=\"C\"></a>\n",
    "\n",
    "#### Art. 21 Comptes annuels et exercice annuel <a name=\"Art21\"></a>\n",
    "\n",
    "><sup>1</sup> Les comptes annuels se composent du bilan, du compte d'exploitation et de l'annexe et sont établis selon les principes d'une présentation des comptes en bonne et due forme, de sorte que la situation puisse être jugée fiablement au plan de la fortune, du financement et des produits de la coopérative. Ils contiennent également les chiffres de l'année précédente. Les articles correspondants du Code des obligations sont déterminants à cet égard, tout comme d'autres prescriptions légales, en particulier celles de l'encouragement au logement, ainsi que les principes usuels de la branche.\n",
    ">\n",
    "><sup>2</sup> Les comptes annuels sont à soumettre à l'organe de révision, resp. à l'expert agréé pour le contrôle limité.\n",
    ">\n",
    "><sup>3</sup> L'exercice correspond à l'année civile."
   ]
  },
  {
   "cell_type": "markdown",
   "metadata": {},
   "source": [
    "#### Art. 22 Réserves issues du bénéfice <a name=\"Art22\"></a>\n",
    "\n",
    "><sup>1</sup> Le bénéfice annuel établi sur la base des comptes annuels sert en premier lieu à alimenter les réserves de bénéfices.\n",
    ">\n",
    "><sup>2</sup> L'assemblée générale décide sous respect de l'art. 860, al. 1 CO du montant affecté aux réserves de bénéfices légales et facultatives.\n",
    ">\n",
    "><sup>3</sup> Le comité décide de la mise à contribution des réserves issues de bénéfices, moyennant observation de l'art. 860, al. 3 CO."
   ]
  },
  {
   "cell_type": "markdown",
   "metadata": {},
   "source": [
    "#### Art. 23 Réserves et ajustements de valeurs <a name=\"Art23\"></a>\n",
    "\n",
    "><sup>1</sup> Le compte d'exploitation doit être grevé chaque année de versements appropriés au fonds de rénovation, axés sur la stratégie de la coopérative en la matière.\n",
    ">\n",
    "><sup>2</sup> Il s'agit de tenir compte de la dépréciation des immeubles par des amortissements adéquats et réguliers. Ceux-ci se fondent généralement sur les directives de l'administration des contributions et figurent au bilan selon la méthode indirecte. Si la coopérative est titulaire d'un droit de superficie, le compte d'exploitation est débité chaque année d'un versement aux ajustements de valeurs pour le droit de retour gratuit des constructions. Si le montant de ces ajustements peut être déterminé au préalable, conformément aux conditions des contrats de droit de superficie, c'est ce montant qui sera raisonnablement pris en compte et, sans quoi, les amortissements admissibles au plan fiscal.\n",
    ">\n",
    "><sup>3</sup> Pour des logements subventionnés par l'Etat, les réserves et ajustements de valeurs doivent correspondre aux prescriptions régissant l'aide au logement.\n",
    ">\n",
    "><sup>4</sup> L'assemblée générale peut, dans les limites des art. 862 et 863 CO, décider d'alimenter d'autres fonds.\n",
    ">\n",
    "><sup>5</sup> Les moyens mis à disposition des fonds sont gérés et utilisés par le comité, conformément au but décidé; ils sont contrôlés dans le cadre de la comptabilité générale, resp. par l'organe de révision et l'expert agréé pour\n",
    "un contrôle limité."
   ]
  },
  {
   "cell_type": "markdown",
   "metadata": {},
   "source": [
    "#### Art. 24 Indemnité des organes <a name=\"Art24\"></a>\n",
    "\n",
    "><sup>1</sup> Les membres du comité ont droit à une indemnité raisonnable qui se fonde sur les tâches et la charge de travail des membres respectifs, et qui est fixée par le comité lui-même.\n",
    ">\n",
    "><sup>2</sup> L'indemnité de l'organe de révision, resp. de l'expert agréé pour un contrôle limité est fixée en fonction des tarifs usuels de la branche.\n",
    ">\n",
    "><sup>3</sup> Les membres de commissions et de délégations ont droit à un jeton de présence d'un montant raisonnable.\n",
    ">\n",
    "><sup>4</sup> Le versement de tantièmes est exclu. Tantièmes exclus\n",
    ">\n",
    "><sup>5</sup> Le montant total des indemnités versées aux membres du comité - ventilées entre indemnités de séance, indemnités pour activité de construction et autres travaux effectués pour la coopérative - ainsi que pour d'autres commissions instituées par l'assemblée générale doit figurer dans le compte d'exploitation.\n",
    ">\n",
    "><sup>6</sup> De plus, seront remboursés les frais engagés dans l'intérêt de la coopérative par des membres du comité, de l'organe de révision ou par l'expert agréé pour un contrôle limité ainsi que par des commissions."
   ]
  },
  {
   "cell_type": "markdown",
   "metadata": {},
   "source": [
    "### 5. Organisation <a name=\"5\"></a>\n",
    "\n",
    "#### **Organes** <a name=\"D\"></a>\n",
    "\n",
    "#### Art. 25 Vue d'ensemble <a name=\"Art25\"></a>\n",
    "\n",
    ">Les organes de la coopérative sont:\n",
    ">* <sup>a</sup> l'assemblée générale,\n",
    ">* <sup>b</sup> le comité,\n",
    ">* <sup>c</sup> l'organe de révision."
   ]
  },
  {
   "cell_type": "markdown",
   "metadata": {},
   "source": [
    "#### **Assemblée générale** <a name=\"E\"></a>\n",
    "\n",
    "#### Art. 26 Compétences <a name=\"Art26\"></a>\n",
    "\n",
    "><sup>1</sup> L'assemblée générale dispose des compétences suivantes:\n",
    ">* <sup>a</sup> Adoption et modification des statuts;\n",
    ">* <sup>b</sup> Election et révocation du président, du co-président ainsi que des autres membres du comité et de l'organe de révision;\n",
    ">* <sup>c</sup> Approbation du rapport annuel du comité;\n",
    ">* <sup>d</sup> Approbation des comptes annuels et décision sur l'affectation du bénéfice figurant au bilan;\n",
    ">* <sup>e</sup> Décharge des membres du comité;\n",
    ">* <sup>f</sup> Décision sur recours contre des décisions d'exclusion émises par le comité;\n",
    ">* <sup>g</sup> Décision sur la vente de terrains, immeubles et logements et sur l'octroi de droits de superficie distincts et permanents;\n",
    ">* <sup>h</sup> Décision sur l'achat de terrains et/ou la construction de nouveaux bâtiments dont les coûts dépassent 20% de la valeur d'investissement de\n",
    "tous les biens-fonds (sans les amortissements);\n",
    ">* <sup>i</sup> Décision sur la démolition de bâtiments d'habitation et la construction d'immeubles de remplacement;\n",
    ">* <sup>j</sup> Décision sur la dissolution ou la fusion de la coopérative;\n",
    ">* <sup>k</sup> Approbation de règlements, dans la mesure où ceux-ci ne relèvent pas expressément de la compétence du comité;\n",
    ">* <sup>l</sup> Décision sur des objets portés à l'ordre du jour sur proposition de membres, pour autant que ces objets soient soumis à la décision de l'assemblée générale (art. 25, al. 2);\n",
    ">* <sup>m</sup> Décision sur tout autre objet réservé à l'assemblée générale par la loi ou les statuts, ou qui lui est soumis par le comité.\n",
    "> \n",
    "><sup>2</sup>  Les propositions de membres de porter un objet à l'ordre du jour selon let. l) doivent parvenir par écrit au comité, au plus tard 60 jours avant l'assemblée\n",
    "générale ordinaire. La date de l'assemblée générale doit être communiquée au moins trois mois au préalable.\n",
    ">\n",
    "><sup>3</sup> Seuls peuvent être soumis au vote les objets qui ont été portés à l'ordre du jour. Pour déposer des propositions dans le cadre de l'ordre du jour, il n'y a pas besoin d'annonce préalable."
   ]
  },
  {
   "cell_type": "markdown",
   "metadata": {},
   "source": [
    "#### Art. 27 Convocation et direction de l'assemblée <a name=\"Art27\"></a>\n",
    "\n",
    "><sup>1</sup> L'Assemblée générale ordinaire a lieu une fois par an,  durant le premier semestre de l'année civile.\n",
    ">\n",
    "><sup>2</sup> Les assemblées générales extraordinaires sont convoquées pour autant qu'une assemblée générale précédente, le comité et l'organe de révision ou les liquidateurs le décident, ou si le dixième des membres l'exige. Si la coopérative compte moins de 30 membres, la convocation doit être demandée par trois membres au moins. La convocation doit avoir lieu dans le délai de huit semaines à dater de la réception de la demande.\n",
    ">\n",
    "><sup>3</sup> L'assemblée générale doit être convoquée par le comité, au moins 20 jours avant le jour de l'assemblée. Dans la convocation doivent figurer l'ordre du jour et, en cas de propositions de modification des statuts, le texte des modifications proposées. Il y a lieu de joindre à la convocation aux assemblées générales ordinaires le rapport annuel (art. 30, al. 2), y compris le rapport de l'organe de révision ou de l'expert agréé pour un contrôle limité; ces documents doivent également être déposés 20 jours avant la date de l'assemblée, pour consultation, au siège social de la coopérative.\n",
    ">\n",
    "><sup>4</sup> L'assemblée générale est dirigée par le président ou le co-président ou par un membre du comité. Elle peut, sur proposition du comité, élire un président du jour."
   ]
  },
  {
   "cell_type": "markdown",
   "metadata": {},
   "source": [
    "#### Art. 28 Droit de vote <a name=\"Art28\"></a>\n",
    "\n",
    "><sup>1</sup> Chaque membre dispose d'une voix à l'assemblée générale. \n",
    ">\n",
    "><sup>2</sup> Il peut s'y faire représenter par un autre membre moyennant procuration écrite. Personne ne peut représenter plus d'un autre membre.\n",
    ">\n",
    "><sup>3</sup> Lors de décisions sur la décharge des membres du comité, ceux-ci n'ont pas le droit de voter."
   ]
  },
  {
   "cell_type": "markdown",
   "metadata": {},
   "source": [
    "#### Art. 29 Décisions et élections <a name=\"Art29\"></a>\n",
    "\n",
    "><sup>1</sup> L'assemblée générale est apte à décider valablement lorsqu'elle a été convoquée conformément aux statuts.\n",
    ">\n",
    "><sup>2</sup> Elections et votes ont lieu à main levée, sauf si un tiers des voix émises exige le vote à bulletin secret.\n",
    ">\n",
    "><sup>3</sup> L'assemblée générale prend ses décisions à la majorité simple des voix exprimées. Pour les élections s'applique au premier tour de scrutin la majorité absolue, et au deuxième, la majorité relative. Les abstentions et les suffrages nuls ne sont pas pris en compte pour la détermination de la majorité.\n",
    ">\n",
    "><sup>4</sup> Pour l'achat de biens-fonds et l'octroi de droits de superficie distincts et permanents, pour les modifications des statuts ainsi que la dissolution et la fusion de la coopérative, il faut l'approbation des deux tiers des voix émises.\n",
    ">\n",
    "><sup>5</sup> Les art. 889 CO et 18, al. 1, let. d de la loi sur fusion (LFus) demeurent réservés.\n",
    ">\n",
    "><sup>6</sup> Un procès-verbal est rédigé pour les décisions et les résultats d'élections, qui doit être signé par le président et par son rédacteur."
   ]
  },
  {
   "cell_type": "markdown",
   "metadata": {},
   "source": [
    "#### **Comité** <a name=\"F\"></a>\n",
    "\n",
    "#### Art. 30 Election et éligibilité <a name=\"Art30\"></a>\n",
    "\n",
    "><sup>1</sup> Le comité se compose de ***sept*** personnes. Il doit être composé en majorité de membres de la coopérative. Le président ou le co-président est élu par l'assemblée générale; pour le reste, le comité se constitue lui-même. Il désigne un rédacteur du procès-verbal qui n'a pas obligation de faire partie du comité.\n",
    ">\n",
    "><sup>2</sup> Les membres du comité sont élus pour trois ans et sont rééligibles. Des élections au cours d'une période de fonction sont valables jusqu'à l'échéance de cette période. La durée maximale de fonction est de douze ans.\n",
    ">\n",
    "><sup>3</sup> Tous les membres du comité sont tenus de se récuser si des affaires sont traitées, qui touchent à leurs propres intérêts ou aux intérêts de personnes physiques ou morales qui leur sont proches. Les membres du comité prenant la décision ont obligation de conclure l'affaire en question au maximum aux conditions de tiers (valeur du marché). Dans de tels cas, le contrat doit revêtir la forme écrite. Cette exigence ne s'applique pas aux opérations courantes pour lesquelles la prestation de la société ne dépasse pas 1'000 CHF. Si le comité tout entier doit se récuser, il y a lieu de requérir pour l'affaire une décision d'approbation de l'assemblée générale."
   ]
  },
  {
   "cell_type": "markdown",
   "metadata": {},
   "source": [
    "#### Art. 31 Tâches <a name=\"Art31\"></a>\n",
    "\n",
    "><sup>1</sup> Dans les limites des dispositions légales et statutaires, le comité est compétent pour l'administration et pour toutes les affaires de la coopérative qui ne sont pas expressément réservées à un autre organe. \n",
    ">\n",
    "><sup>2</sup> Le comité établit pour chaque exercice un rapport de gestion qui se compose des comptes annuels (art. 20) et du rapport annuel. Le rapport annuel présente l'évolution des affaires ainsi que la situation économique de la coopérative et fournit l'attestation de contrôle de l'organe de révision ou de l'expert agréé pour un contrôle limité.\n",
    ">\n",
    "><sup>3</sup> Il désigne les personnes habilitées à signer et le mode de signature, seule la signature collective à deux pouvant leur être accordée."
   ]
  },
  {
   "cell_type": "markdown",
   "metadata": {},
   "source": [
    "#### Art. 32 Délégation de compétence <a name=\"Art32\"></a>\n",
    "\n",
    "><sup>1</sup> Le comité est habilité à confier la gestion des affaires ou certains secteurs de celle-ci a un ou plusieurs de ses membres (délégations), à des commissions permanentes ou ad hoc et/ou à une ou plusieurs personne/s qui à cet effet n'ont pas obligation d'être membres de la coopérative (direction). Les membres de commissions n'ont pas à être membres de la coopérative.\n",
    ">\n",
    "><sup>2</sup> Le comité édicte un règlement d'organisation qui fixe les tâches du comité, des délégations, commissions ainsi que de la direction et règle notamment la question des rapports à présenter."
   ]
  },
  {
   "cell_type": "markdown",
   "metadata": {},
   "source": [
    "#### Art. 33 Séances du comité <a name=\"Art33\"></a>\n",
    "\n",
    "><sup>1</sup> Les séances du comité sont convoquées par la présidence ou la co-présidence, aussi souvent que les affaires l'exigent et, en outre, lorsque deux membres du comité en demandent la convocation.\n",
    ">\n",
    "><sup>2</sup> Le comité peut prendre valablement des décisions en présence de la majorité de ses membres. Il décide à la majorité simple des voix émises. En cas d'égalité des voix, celle du président est prépondérante.\n",
    ">\n",
    "><sup>3</sup> Dans la mesure où aucun membre du comité n'exige les débats oraux et que la majorité des membres du comité y consent, des décisions prises par voie circulaire écrite sans voix contraire sont réputées décisions valables du comité, même celles communiquées par e-mail ou fax. Elles doivent être consignées au procès-verbal de la prochaine séance.\n",
    ">\n",
    "><sup>4</sup> Les délibérations et décisions du comité sont consignées dans un procèsverbal qui doit être signé par le président et par son rédacteur."
   ]
  },
  {
   "cell_type": "markdown",
   "metadata": {},
   "source": [
    "#### **Organe de révision** <a name=\"G\"></a>\n",
    "\n",
    "#### Art. 34 Election et constitution <a name=\"Art34\"></a>\n",
    "\n",
    "><sup>1</sup>  A titre d'organe de révision, l'assemblée générale élit un réviseur ou une entreprise de révision agréés selon la loi sur la surveillance de la révision (art. 5 s. LSR et art. 727c CO), toujours pour un exercice annuel jusqu'à l'approbation des comptes annuels en question.\n",
    ">\n",
    "><sup>2</sup>  L'assemblée générale peut renoncer à l'élection d'un tel organe (opting out) si:\n",
    ">* <sup>a</sup>  la coopérative n'est pas tenue à une révision ordinaire;\n",
    ">* <sup>b</sup>  tous les membres de la coopérative approuvent ce renoncement;\n",
    ">* <sup>c</sup>  la coopérative n'a pas plus de dix postes à temps complet en moyenne durant l'année;\n",
    ">* <sup>d</sup>  aucun autre motif légal ou contractuel ne contraint la coopérative à une révision.\n",
    ">\n",
    "><sup>3</sup>  Si l'assemblée générale renonce à l'élection d'un organe de révision, le comité mandate en lieu et place un réviseur agréé par l'Office fédéral du logement pour qu'il procède à un contrôle selon ses directives."
   ]
  },
  {
   "cell_type": "markdown",
   "metadata": {},
   "source": [
    "#### Art. 35 Tâches <a name=\"Art35\"></a>\n",
    "\n",
    "><sup>1</sup> Si l'assemblée générale élit un organe de révision, celui-ci  exécute un contrôle restreint selon art. 729 ss CO. Les tâches et la responsabilité de l'organe de révision se fondent sur les dispositions légales.\n",
    ">\n",
    "><sup>2</sup> Si en lieu et place, la coopérative a décidé l'opting out, les tâches et la responsabilité du réviseur agréé sont régies par les directives y relatives de l'Office fédéral du logement (OFL).\n",
    ">\n",
    "><sup>3</sup> L'organe de révision ou le réviseur agréé OFL soumet à l'assemblée générale ordinaire un rapport écrit."
   ]
  },
  {
   "cell_type": "markdown",
   "metadata": {},
   "source": [
    "### 6. Dispositions finales"
   ]
  },
  {
   "cell_type": "markdown",
   "metadata": {},
   "source": [
    "#### **Dissolution par liquidation et fusion** <a name=\"H\"></a>\n",
    "\n",
    "#### Art. 36 Liquidation <a name=\"Art36\"></a>\n",
    "\n",
    "><sup>1</sup> Une assemblée générale spécialement convoquée à cette fin peut en tout temps décider de la dissolution de la coopérative par voie de liquidation.\n",
    ">\n",
    "><sup>2</sup> Le comité exécute la liquidation conformément aux dispositions de la loi et des statuts, pour autant que l'assemblée générale ne mandate pas un liquidateur spécial pour ce faire."
   ]
  },
  {
   "cell_type": "markdown",
   "metadata": {},
   "source": [
    "#### Art. 37 Excédent de liquidation <a name=\"Art37\"></a>\n",
    "\n",
    "><sup>1</sup> La fortune résiduelle de la coopérative après extinction de toutes les dettes et le remboursement de toutes les parts de coopératives à la valeur nominale sera totalement transférée à la Fondation fonds de solidarité de coopératives d'habitation Suisse - fédération des maîtres d'ouvrage d'utilité publique.\n",
    ">\n",
    "><sup>2</sup> Demeurent réservées des dispositions contraires de la Confédération, du canton ou de communes ou d'autres institutions encore, en matière d'aide au logement."
   ]
  },
  {
   "cell_type": "markdown",
   "metadata": {},
   "source": [
    "#### Art. 38 Fusion <a name=\"Art38\"></a>\n",
    "\n",
    "><sup>1</sup> L'assemblée générale peut décider en tout temps de la fusion de la coopérative avec un autre maître d'ouvrage d'utilité publique.\n",
    ">\n",
    "><sup>2</sup> La préparation de la fusion est l'affaire du comité. Il peut cependant demander au préalable un vote de l'assemblée générale à titre consultatif."
   ]
  },
  {
   "cell_type": "markdown",
   "metadata": {},
   "source": [
    "#### **Communications** <a name=\"I\"></a>\n",
    "\n",
    "### Art. 39 Communications et organe de publication <a name=\"Art39\"></a>\n",
    "\n",
    "><sup>1</sup> Les communications internes de la coopérative à l'attention des membres et les convocations se font par écrit, par voie d'e-mail ou de circulaire, à défaut de dispositions contraires impératives prévues par la loi.\n",
    ">\n",
    "><sup>2</sup> L'organe de publication de la coopérative est la Feuille officielle suisse du commerce."
   ]
  },
  {
   "cell_type": "markdown",
   "metadata": {},
   "source": [
    "### **Approbation** <a name=\"J\"></a>\n",
    "\n",
    "### Art. 40\tApprobation par l'Office Fédéral du Logement (OFL)\t<a name=\"Art40\"></a>\n",
    "\n",
    ">Ces statuts et leurs modifications exigent, si un financement fédéral est obtenu, une autorisation de l'Office Fédéral du Logement (OFL) avant la décision de l'Assemblée générale."
   ]
  },
  {
   "cell_type": "markdown",
   "metadata": {},
   "source": [
    "---"
   ]
  },
  {
   "cell_type": "markdown",
   "metadata": {},
   "source": [
    "**Les statuts susmentionnés ont été adoptés lors de l'assemblée constitutive du 15 Janvier 2022.**"
   ]
  }
 ],
 "metadata": {
  "kernelspec": {
   "display_name": "Python 3",
   "language": "python",
   "name": "python3"
  },
  "language_info": {
   "codemirror_mode": {
    "name": "ipython",
    "version": 3
   },
   "file_extension": ".py",
   "mimetype": "text/x-python",
   "name": "python",
   "nbconvert_exporter": "python",
   "pygments_lexer": "ipython3",
   "version": "3.6.13"
  }
 },
 "nbformat": 4,
 "nbformat_minor": 4
}
