{
 "cells": [
  {
   "cell_type": "markdown",
   "metadata": {},
   "source": [
    "***Re-Co***  \n",
    "*société coopérative d’habitation*  \n",
    "Av. de Morges 63  \n",
    "1004 Lausanne  \n",
    "info@re-co.ch"
   ]
  },
  {
   "cell_type": "markdown",
   "metadata": {},
   "source": [
    "-----"
   ]
  },
  {
   "cell_type": "markdown",
   "metadata": {},
   "source": [
    "**Assemblée Générale**  \n",
    "15 Janvier 2022, 17h00-19h00  \n",
    "Av. de Morges 63  \n",
    "1004 Lausanne \n",
    "\n",
    "**Présents**  \n",
    "La liste des fondateurs présents est annexée au présent PV."
   ]
  },
  {
   "cell_type": "markdown",
   "metadata": {},
   "source": [
    "-----"
   ]
  },
  {
   "cell_type": "markdown",
   "metadata": {},
   "source": [
    "# Procès-verbal de l’assemblée constitutive de la société coopérative d'habitation ***Re-Co*** dont le siège est situé à Lausanne"
   ]
  },
  {
   "cell_type": "markdown",
   "metadata": {},
   "source": [
    "### 1. Ordre du jour\n",
    "\n",
    "*L'ordre du jour a été envoyé à tous les participants le lundi 13 décembre 2021.*\n",
    "\n",
    "> <sup>1</sup> Adoption de l'ordre du jour  \n",
    "> <sup>2</sup> Présentation Générale de *Re-Co*   \n",
    "> <sup>3</sup> Adoption des statuts :\n",
    "> - Source des statuts et prévision d'une charte opérationnelle\n",
    "> - Adoption\n",
    "> - élection du comité et de la présidence\n",
    ">\n",
    "> <sup>4</sup> Cotisations et parts sociales\n",
    "> <sup>5</sup> Élection de l'organe de révision  \n",
    "> <sup>6</sup> Activités 2022  \n",
    "> <sup>7</sup> Remerciements\n",
    ">\n",
    "> Lucas Uhlmann indique le déroulement de l'assemblée constitutive de Re-Co.  \n",
    "> L'assemblée constitutive n'est pas une assemblée générale ordinaire.  \n",
    "> La présente assemblée sert à constituer formellement la coopérative."
   ]
  },
  {
   "cell_type": "markdown",
   "metadata": {},
   "source": [
    "### 2. Présentation générale\n",
    "> Lucas Uhlmann rappelle les objectifs et principes rassemblés sur le site re-co.ch  \n",
    "> L'organisation générale prévue est décrite : outre l'assemblée générale, le comité et l'organe de révision, Re-Co sera constitué de sections opérationnelles responsables respectivement de\n",
    "> - la Communication\n",
    "> - des Finances \n",
    "> - de l'Architecture  \n",
    ">\n",
    "> Les membres de Re-Co sont toutes et tous coopératrices et coopérateurs donc à ce titre possèdent au moins une part sociale de la société coopérative."
   ]
  },
  {
   "cell_type": "markdown",
   "metadata": {},
   "source": [
    "### 3. Statuts\n",
    "\n",
    "> Re-Co a choisi de reprendre en intégralité les statuts-types de l'association romande des maîtres d'ouvrage d'utilité publique.  \n",
    "> L'assemblée décide de complémenter ses statuts par une charte opérationnelle dans le délai d'une année. Cette dernière sera soumis à la prochaine assemblée générale.  \n",
    ">\n",
    "> Suite à cette discussion, les statuts sont approuvés par l'assemblée. \n",
    ">\n",
    "> Les participants ne pourront être formellement admis comme membres qu'une fois la coopérative inscrite au registre du commerce et aux conditions définies par les statuts."
   ]
  },
  {
   "cell_type": "markdown",
   "metadata": {},
   "source": [
    "**Comité 2022** \n",
    "\n",
    "> Les sept membres fondateurs de Re-Co sont désignés membres du comité :\n",
    ">- Antoine Girardin\n",
    ">- Grégoire Henrioud\n",
    ">- Mélanie Rouge\n",
    ">- Marie Sigrist\n",
    ">- Lucas Uhlmann\n",
    ">- Elliot Vaucher\n",
    ">- Marie-Pascale Wellinger\n",
    ">\n",
    "> Les membres du comité sont élus par acclamation, Lucas Uhlmann est élu à la présidence.  \n",
    "> Il est décidé que pour l'année 2022 seuls les membres du comité seront inscrits au registre du commerce."
   ]
  },
  {
   "cell_type": "markdown",
   "metadata": {},
   "source": [
    "### 4. Cotisation et part sociale\n",
    "\n",
    "> Lucas Uhlmann reprend la présidence de la séance.  \n",
    "> Le comité réitère sa volonté de renoncer à une cotisation comme l'indiquent les statuts.  \n",
    "> Dans un esprit de rendre accessible la participation à Re-Co, la part sociale est fixéee à CHF 100.-  \n",
    "> Le comité se laisse la liberté de préciser le nombre de parts nécessaires pour intégrer un logement, selon les statuts.  "
   ]
  },
  {
   "cell_type": "markdown",
   "metadata": {},
   "source": [
    "### 6. Election de l'organe de révision\n",
    "\n",
    "> Le comité renonce à l'élection d'un organe de révision par voie d'Opting-Out.  \n",
    "> La déclaration de renonciation est annexée au présent PV"
   ]
  },
  {
   "cell_type": "markdown",
   "metadata": {},
   "source": [
    "### 7. Remerciements\n",
    "\n",
    "> Le président remercie les membres pour leur présence ainsi que pour leur contribution à la coopérative ayant permis sa fondation.  \n",
    "> La séance est levée à 20h00."
   ]
  },
  {
   "cell_type": "markdown",
   "metadata": {},
   "source": [
    "---"
   ]
  },
  {
   "cell_type": "markdown",
   "metadata": {},
   "source": [
    "**Les statuts susmentionnés ont été adoptés lors de l'assemblée constitutive du 15 Janvier 2022.**"
   ]
  }
 ],
 "metadata": {
  "kernelspec": {
   "display_name": "Python 3",
   "language": "python",
   "name": "python3"
  },
  "language_info": {
   "codemirror_mode": {
    "name": "ipython",
    "version": 3
   },
   "file_extension": ".py",
   "mimetype": "text/x-python",
   "name": "python",
   "nbconvert_exporter": "python",
   "pygments_lexer": "ipython3",
   "version": "3.6.13"
  }
 },
 "nbformat": 4,
 "nbformat_minor": 4
}
