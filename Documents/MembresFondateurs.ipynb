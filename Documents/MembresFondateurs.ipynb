{
 "cells": [
  {
   "cell_type": "markdown",
   "metadata": {},
   "source": [
    "***Re-Co***  \n",
    "*société coopérative d’habitation*  \n",
    "Av. de Morges 63  \n",
    "1004 Lausanne  \n",
    "info@re-co.ch"
   ]
  },
  {
   "cell_type": "markdown",
   "metadata": {},
   "source": [
    "-----"
   ]
  },
  {
   "cell_type": "markdown",
   "metadata": {},
   "source": [
    "*Procès-verbal de l’assemblée constitutive de la société coopérative d'habitation *Re-Co* du 15 javier 2022*"
   ]
  },
  {
   "cell_type": "markdown",
   "metadata": {},
   "source": [
    "### Membres fondateurs inscrits au registre du commerce\n",
    "\n",
    "> Les personnes ci-dessous\n",
    "> - acceptent le contenu du présent procès-verbal,  \n",
    "> - déclarent être les fondateurs de la société coopérative d'habitation *Re-Co*,  \n",
    "> - constatent que le texte des statuts a été arrêté "
   ]
  },
  {
   "cell_type": "markdown",
   "metadata": {},
   "source": [
    "**Antoine Girardin**  \n",
    "Av de Mont  \n",
    "1006 Lausanne  \n",
    "Originaire du  \n",
    "Né le   "
   ]
  },
  {
   "cell_type": "markdown",
   "metadata": {},
   "source": [
    "**Grégoire Henrioud**  \n",
    "Av de Mont  \n",
    "1006 Lausanne  \n",
    "Originaire du  \n",
    "Né le   "
   ]
  },
  {
   "cell_type": "markdown",
   "metadata": {},
   "source": [
    "**Mélanie Rouge**  \n",
    "Av de Mont  \n",
    "1006 Lausanne  \n",
    "Originaire du  \n",
    "Né le   "
   ]
  },
  {
   "cell_type": "markdown",
   "metadata": {},
   "source": [
    "**Marie Sigrist**  \n",
    "Av de Mont  \n",
    "1006 Lausanne  \n",
    "Originaire du  \n",
    "Né le   "
   ]
  },
  {
   "cell_type": "markdown",
   "metadata": {},
   "source": [
    "**Lucas Uhlmann**  \n",
    "Av de Mont  \n",
    "1006 Lausanne  \n",
    "Originaire du  \n",
    "Né le   "
   ]
  },
  {
   "cell_type": "markdown",
   "metadata": {},
   "source": [
    "**Elliot Vaucher**  \n",
    "Av de Mont  \n",
    "1006 Lausanne  \n",
    "Originaire du  \n",
    "Né le   "
   ]
  },
  {
   "cell_type": "markdown",
   "metadata": {},
   "source": [
    "**Marie-Pascale Wellinger**  \n",
    "Av de Mont  \n",
    "1006 Lausanne  \n",
    "Originaire du  \n",
    "Né le   "
   ]
  }
 ],
 "metadata": {
  "kernelspec": {
   "display_name": "Python 3",
   "language": "python",
   "name": "python3"
  },
  "language_info": {
   "codemirror_mode": {
    "name": "ipython",
    "version": 3
   },
   "file_extension": ".py",
   "mimetype": "text/x-python",
   "name": "python",
   "nbconvert_exporter": "python",
   "pygments_lexer": "ipython3",
   "version": "3.6.13"
  }
 },
 "nbformat": 4,
 "nbformat_minor": 4
}
